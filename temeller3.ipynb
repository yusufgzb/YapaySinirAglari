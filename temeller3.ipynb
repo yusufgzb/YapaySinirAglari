{
 "cells": [
  {
   "cell_type": "code",
   "execution_count": 3,
   "metadata": {},
   "outputs": [],
   "source": [
    "from tensorflow.keras.models import Sequential\n",
    "from tensorflow.keras.layers import Flatten, Dense, Dropout\n",
    "from tensorflow.keras.preprocessing.image import ImageDataGenerator"
   ]
  },
  {
   "cell_type": "code",
   "execution_count": 2,
   "metadata": {},
   "outputs": [
    {
     "name": "stdout",
     "output_type": "stream",
     "text": [
      "Found 600 images belonging to 3 classes.\n"
     ]
    }
   ],
   "source": [
    "train_datagen = ImageDataGenerator(rescale=1.0/255.0)\n",
    "train_generator = train_datagen.flow_from_directory(\n",
    "    \"resimler/\",\n",
    "    target_size=(32,32)\n",
    "    )"
   ]
  },
  {
   "cell_type": "code",
   "execution_count": 4,
   "metadata": {},
   "outputs": [],
   "source": [
    "model  = Sequential()\n",
    "model.add(Flatten(input_shape=(32,32,3)))\n",
    "model.add(Dense(units=512,activation=\"relu\"))\n",
    "model.add(Dropout(0.2))\n",
    "model.add(Dense(units=128,activation=\"relu\"))\n",
    "model.add(Dense(3,activation=\"softmax\"))"
   ]
  },
  {
   "cell_type": "code",
   "execution_count": 5,
   "metadata": {},
   "outputs": [
    {
     "name": "stdout",
     "output_type": "stream",
     "text": [
      "Model: \"sequential\"\n",
      "_________________________________________________________________\n",
      "Layer (type)                 Output Shape              Param #   \n",
      "=================================================================\n",
      "flatten (Flatten)            (None, 3072)              0         \n",
      "_________________________________________________________________\n",
      "dense (Dense)                (None, 512)               1573376   \n",
      "_________________________________________________________________\n",
      "dropout (Dropout)            (None, 512)               0         \n",
      "_________________________________________________________________\n",
      "dense_1 (Dense)              (None, 128)               65664     \n",
      "_________________________________________________________________\n",
      "dense_2 (Dense)              (None, 3)                 387       \n",
      "=================================================================\n",
      "Total params: 1,639,427\n",
      "Trainable params: 1,639,427\n",
      "Non-trainable params: 0\n",
      "_________________________________________________________________\n"
     ]
    }
   ],
   "source": [
    "model.summary()"
   ]
  },
  {
   "cell_type": "code",
   "execution_count": 6,
   "metadata": {},
   "outputs": [],
   "source": [
    "model.compile(optimizer=\"adam\",loss=\"categorical_crossentropy\",metrics=[\"accuracy\"])"
   ]
  },
  {
   "cell_type": "code",
   "execution_count": 7,
   "metadata": {},
   "outputs": [
    {
     "name": "stdout",
     "output_type": "stream",
     "text": [
      "Epoch 1/10\n",
      "19/19 [==============================] - 29s 1s/step - loss: 1.3511 - accuracy: 0.4533\n",
      "Epoch 2/10\n",
      "19/19 [==============================] - 25s 1s/step - loss: 0.6693 - accuracy: 0.7300\n",
      "Epoch 3/10\n",
      "19/19 [==============================] - 25s 1s/step - loss: 0.3509 - accuracy: 0.8917\n",
      "Epoch 4/10\n",
      "19/19 [==============================] - 22s 1s/step - loss: 0.2424 - accuracy: 0.9100\n",
      "Epoch 5/10\n",
      "19/19 [==============================] - 23s 1s/step - loss: 0.1380 - accuracy: 0.9567\n",
      "Epoch 6/10\n",
      "19/19 [==============================] - 26s 1s/step - loss: 0.1146 - accuracy: 0.9600\n",
      "Epoch 7/10\n",
      "19/19 [==============================] - 25s 1s/step - loss: 0.0492 - accuracy: 0.9950\n",
      "Epoch 8/10\n",
      "19/19 [==============================] - 27s 1s/step - loss: 0.0280 - accuracy: 0.9983\n",
      "Epoch 9/10\n",
      "19/19 [==============================] - 27s 1s/step - loss: 0.0220 - accuracy: 0.9983\n",
      "Epoch 10/10\n",
      "19/19 [==============================] - 22s 1s/step - loss: 0.0134 - accuracy: 1.0000\n"
     ]
    },
    {
     "data": {
      "text/plain": [
       "<tensorflow.python.keras.callbacks.History at 0x2eb91a8dd60>"
      ]
     },
     "execution_count": 7,
     "metadata": {},
     "output_type": "execute_result"
    }
   ],
   "source": [
    "model.fit(train_generator,epochs=10,batch_size=4,verbose=1)"
   ]
  },
  {
   "cell_type": "code",
   "execution_count": 9,
   "metadata": {},
   "outputs": [],
   "source": [
    "model.save('data/ozellestirilmis_model.h5')"
   ]
  },
  {
   "cell_type": "code",
   "execution_count": 31,
   "metadata": {},
   "outputs": [],
   "source": [
    "from tensorflow.keras.models import  load_model\n",
    "from tensorflow.keras.preprocessing import image\n",
    "import numpy as np\n",
    "\n",
    "img_path = \"test.jpg\"\n",
    "img = image.load_img(img_path,target_size=(32,32))\n",
    "img_array = image.img_to_array(img)"
   ]
  },
  {
   "cell_type": "code",
   "execution_count": 32,
   "metadata": {},
   "outputs": [
    {
     "data": {
      "image/png": "[encoded data removed]",
      "text/plain": [
       "<PIL.Image.Image image mode=RGB size=32x32>"
      ]
     },
     "execution_count": 32,
     "metadata": {},
     "output_type": "execute_result"
    }
   ],
   "source": [
    "img"
   ]
  },
  {
   "cell_type": "code",
   "execution_count": 33,
   "metadata": {},
   "outputs": [
    {
     "data": {
      "text/plain": [
       "array([[[189., 186., 181.],\n",
       "        [197., 197., 189.],\n",
       "        [200., 197., 190.],\n",
       "        ...,\n",
       "        [206., 203., 194.],\n",
       "        [217., 212., 206.],\n",
       "        [216., 213., 204.]],\n",
       "\n",
       "       [[188., 188., 180.],\n",
       "        [197., 194., 187.],\n",
       "        [202., 199., 192.],\n",
       "        ...,\n",
       "        [210., 207., 198.],\n",
       "        [219., 216., 209.],\n",
       "        [217., 214., 205.]],\n",
       "\n",
       "       [[189., 186., 177.],\n",
       "        [196., 193., 186.],\n",
       "        [201., 198., 191.],\n",
       "        ...,\n",
       "        [211., 208., 201.],\n",
       "        [221., 218., 211.],\n",
       "        [218., 215., 208.]],\n",
       "\n",
       "       ...,\n",
       "\n",
       "       [[129., 125., 124.],\n",
       "        [131., 130., 128.],\n",
       "        [ 67.,  63.,  60.],\n",
       "        ...,\n",
       "        [141., 138., 129.],\n",
       "        [145., 141., 130.],\n",
       "        [146., 142., 131.]],\n",
       "\n",
       "       [[122., 121., 119.],\n",
       "        [130., 129., 125.],\n",
       "        [ 66.,  63.,  58.],\n",
       "        ...,\n",
       "        [156., 153., 146.],\n",
       "        [161., 156., 150.],\n",
       "        [158., 155., 148.]],\n",
       "\n",
       "       [[105., 106., 100.],\n",
       "        [125., 124., 119.],\n",
       "        [ 63.,  64.,  58.],\n",
       "        ...,\n",
       "        [145., 142., 135.],\n",
       "        [149., 145., 136.],\n",
       "        [151., 148., 143.]]], dtype=float32)"
      ]
     },
     "execution_count": 33,
     "metadata": {},
     "output_type": "execute_result"
    }
   ],
   "source": [
    "img_array"
   ]
  },
  {
   "cell_type": "code",
   "execution_count": 34,
   "metadata": {},
   "outputs": [
    {
     "data": {
      "text/plain": [
       "array([[[[189., 186., 181.],\n",
       "         [197., 197., 189.],\n",
       "         [200., 197., 190.],\n",
       "         ...,\n",
       "         [206., 203., 194.],\n",
       "         [217., 212., 206.],\n",
       "         [216., 213., 204.]],\n",
       "\n",
       "        [[188., 188., 180.],\n",
       "         [197., 194., 187.],\n",
       "         [202., 199., 192.],\n",
       "         ...,\n",
       "         [210., 207., 198.],\n",
       "         [219., 216., 209.],\n",
       "         [217., 214., 205.]],\n",
       "\n",
       "        [[189., 186., 177.],\n",
       "         [196., 193., 186.],\n",
       "         [201., 198., 191.],\n",
       "         ...,\n",
       "         [211., 208., 201.],\n",
       "         [221., 218., 211.],\n",
       "         [218., 215., 208.]],\n",
       "\n",
       "        ...,\n",
       "\n",
       "        [[129., 125., 124.],\n",
       "         [131., 130., 128.],\n",
       "         [ 67.,  63.,  60.],\n",
       "         ...,\n",
       "         [141., 138., 129.],\n",
       "         [145., 141., 130.],\n",
       "         [146., 142., 131.]],\n",
       "\n",
       "        [[122., 121., 119.],\n",
       "         [130., 129., 125.],\n",
       "         [ 66.,  63.,  58.],\n",
       "         ...,\n",
       "         [156., 153., 146.],\n",
       "         [161., 156., 150.],\n",
       "         [158., 155., 148.]],\n",
       "\n",
       "        [[105., 106., 100.],\n",
       "         [125., 124., 119.],\n",
       "         [ 63.,  64.,  58.],\n",
       "         ...,\n",
       "         [145., 142., 135.],\n",
       "         [149., 145., 136.],\n",
       "         [151., 148., 143.]]]], dtype=float32)"
      ]
     },
     "execution_count": 34,
     "metadata": {},
     "output_type": "execute_result"
    }
   ],
   "source": [
    "img_array = np.expand_dims(img_array,axis=0)\n",
    "img_array"
   ]
  },
  {
   "cell_type": "code",
   "execution_count": 35,
   "metadata": {},
   "outputs": [
    {
     "data": {
      "text/plain": [
       "array([[[[0.7411765 , 0.7294118 , 0.70980394],\n",
       "         [0.77254903, 0.77254903, 0.7411765 ],\n",
       "         [0.78431374, 0.77254903, 0.74509805],\n",
       "         ...,\n",
       "         [0.80784315, 0.79607844, 0.7607843 ],\n",
       "         [0.8509804 , 0.83137256, 0.80784315],\n",
       "         [0.84705883, 0.8352941 , 0.8       ]],\n",
       "\n",
       "        [[0.7372549 , 0.7372549 , 0.7058824 ],\n",
       "         [0.77254903, 0.7607843 , 0.73333335],\n",
       "         [0.7921569 , 0.78039217, 0.7529412 ],\n",
       "         ...,\n",
       "         [0.8235294 , 0.8117647 , 0.7764706 ],\n",
       "         [0.85882354, 0.84705883, 0.81960785],\n",
       "         [0.8509804 , 0.8392157 , 0.8039216 ]],\n",
       "\n",
       "        [[0.7411765 , 0.7294118 , 0.69411767],\n",
       "         [0.76862746, 0.75686276, 0.7294118 ],\n",
       "         [0.7882353 , 0.7764706 , 0.7490196 ],\n",
       "         ...,\n",
       "         [0.827451  , 0.8156863 , 0.7882353 ],\n",
       "         [0.8666667 , 0.85490197, 0.827451  ],\n",
       "         [0.85490197, 0.84313726, 0.8156863 ]],\n",
       "\n",
       "        ...,\n",
       "\n",
       "        [[0.5058824 , 0.49019608, 0.4862745 ],\n",
       "         [0.5137255 , 0.50980395, 0.5019608 ],\n",
       "         [0.2627451 , 0.24705882, 0.23529412],\n",
       "         ...,\n",
       "         [0.5529412 , 0.5411765 , 0.5058824 ],\n",
       "         [0.5686275 , 0.5529412 , 0.50980395],\n",
       "         [0.57254905, 0.5568628 , 0.5137255 ]],\n",
       "\n",
       "        [[0.47843137, 0.4745098 , 0.46666667],\n",
       "         [0.50980395, 0.5058824 , 0.49019608],\n",
       "         [0.25882354, 0.24705882, 0.22745098],\n",
       "         ...,\n",
       "         [0.6117647 , 0.6       , 0.57254905],\n",
       "         [0.6313726 , 0.6117647 , 0.5882353 ],\n",
       "         [0.61960787, 0.60784316, 0.5803922 ]],\n",
       "\n",
       "        [[0.4117647 , 0.41568628, 0.39215687],\n",
       "         [0.49019608, 0.4862745 , 0.46666667],\n",
       "         [0.24705882, 0.2509804 , 0.22745098],\n",
       "         ...,\n",
       "         [0.5686275 , 0.5568628 , 0.5294118 ],\n",
       "         [0.58431375, 0.5686275 , 0.53333336],\n",
       "         [0.5921569 , 0.5803922 , 0.56078434]]]], dtype=float32)"
      ]
     },
     "execution_count": 35,
     "metadata": {},
     "output_type": "execute_result"
    }
   ],
   "source": [
    "img_array /= 255.0\n",
    "img_array"
   ]
  },
  {
   "cell_type": "code",
   "execution_count": 36,
   "metadata": {},
   "outputs": [
    {
     "data": {
      "text/plain": [
       "<tf.Tensor: shape=(1, 3), dtype=float32, numpy=array([[5.1929085e-08, 2.7061506e-06, 9.9999726e-01]], dtype=float32)>"
      ]
     },
     "execution_count": 36,
     "metadata": {},
     "output_type": "execute_result"
    }
   ],
   "source": [
    "loaded_model = load_model('data/ozellestirilmis_model.h5')\n",
    "pred = loaded_model(img_array)\n",
    "pred"
   ]
  },
  {
   "cell_type": "code",
   "execution_count": 37,
   "metadata": {},
   "outputs": [
    {
     "data": {
      "text/plain": [
       "2"
      ]
     },
     "execution_count": 37,
     "metadata": {},
     "output_type": "execute_result"
    }
   ],
   "source": [
    "np.argmax(pred)"
   ]
  },
  {
   "cell_type": "code",
   "execution_count": 38,
   "metadata": {},
   "outputs": [
    {
     "data": {
      "text/plain": [
       "'termos'"
      ]
     },
     "execution_count": 38,
     "metadata": {},
     "output_type": "execute_result"
    }
   ],
   "source": [
    "class_labels = [\"bardak\",\"deodorant\", \"termos\"] \n",
    "class_labels[np.argmax(pred)]"
   ]
  },
  {
   "cell_type": "code",
   "execution_count": 39,
   "metadata": {},
   "outputs": [
    {
     "name": "stdout",
     "output_type": "stream",
     "text": [
      "Tahmin sonuclari: tf.Tensor([[5.1929085e-08 2.7061506e-06 9.9999726e-01]], shape=(1, 3), dtype=float32)\n",
      "En yuksek tahmin: termos\n"
     ]
    }
   ],
   "source": [
    "class_labels = [\"bardak\",\"deodorant\", \"termos\"] \n",
    "predicted_class_index = np.argmax(pred)\n",
    "predicted_class_label = class_labels[predicted_class_index]\n",
    "\n",
    "print(\"Tahmin sonuclari:\", pred)\n",
    "print(\"En yuksek tahmin:\", predicted_class_label)"
   ]
  },
  {
   "cell_type": "code",
   "execution_count": null,
   "metadata": {},
   "outputs": [],
   "source": []
  }
 ],
 "metadata": {
  "kernelspec": {
   "display_name": "tensorflow-gpu",
   "language": "python",
   "name": "python3"
  },
  "language_info": {
   "codemirror_mode": {
    "name": "ipython",
    "version": 3
   },
   "file_extension": ".py",
   "mimetype": "text/x-python",
   "name": "python",
   "nbconvert_exporter": "python",
   "pygments_lexer": "ipython3",
   "version": "3.8.16"
  },
  "orig_nbformat": 4
 },
 "nbformat": 4,
 "nbformat_minor": 2
}
